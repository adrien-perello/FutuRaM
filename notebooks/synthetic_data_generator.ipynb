{
 "cells": [
  {
   "cell_type": "code",
   "execution_count": 1,
   "metadata": {},
   "outputs": [],
   "source": [
    "import pandas as pd\n",
    "import numpy as np\n",
    "import random"
   ]
  },
  {
   "attachments": {},
   "cell_type": "markdown",
   "metadata": {},
   "source": [
    "## Utility functions\n"
   ]
  },
  {
   "cell_type": "code",
   "execution_count": 7,
   "metadata": {},
   "outputs": [],
   "source": [
    "# Generate TCs\n",
    "def generate_tcs(countries, elements, years, processes):\n",
    "    result = []\n",
    "    for country in countries:\n",
    "        for element in elements:\n",
    "            for year in years:\n",
    "                nb_process = random.randint(2, len(processes))\n",
    "                processFrom = random.sample(processes, k=nb_process)\n",
    "                for proc_in in processFrom:\n",
    "                    nb_outflows = random.randint(2, 6)\n",
    "                    processTo = random.sample(processes, k=nb_outflows)\n",
    "                    outflow_sum = 0\n",
    "                    for proc_out in processTo[:-1]:\n",
    "                        tc = np.round(random.uniform(0, 1 - outflow_sum), 3)\n",
    "                        outflow_sum += tc\n",
    "                        result.append((country, element, year, proc_in, proc_out, tc))\n",
    "                    result.append(\n",
    "                        (\n",
    "                            country,\n",
    "                            element,\n",
    "                            year,\n",
    "                            proc_in,\n",
    "                            processTo[-1],\n",
    "                            1 - outflow_sum,\n",
    "                        )\n",
    "                    )\n",
    "    return pd.DataFrame(\n",
    "        result,\n",
    "        columns=[\"country\", \"material\", \"year\", \"processFrom\", \"processTo\", \"tc\"],\n",
    "    )\n",
    "\n",
    "\n",
    "# Generate inflows\n",
    "def generate_inflows(countries, elements, years, processes):\n",
    "    result = []\n",
    "    for country in countries:\n",
    "        for element in elements:\n",
    "            for year in years:\n",
    "                nb_process = random.randint(1, 3)\n",
    "                processTo = random.sample(processes, k=nb_process)\n",
    "                for proc_out in processTo:\n",
    "                    inflow = np.int32(random.uniform(0, 1) * 1000)\n",
    "                    result.append((country, element, year, \"EXT\", proc_out, inflow))\n",
    "    return pd.DataFrame(\n",
    "        result,\n",
    "        columns=[\"country\", \"material\", \"year\", \"processFrom\", \"processTo\", \"value\"],\n",
    "    )\n",
    "\n",
    "\n",
    "# Sanity check\n",
    "def check_TC_outflows(df, source, target, value):\n",
    "    sum_TC_outflows = df.pivot_table(\n",
    "        index=list(df.columns.difference([target, value])), columns=target, values=value\n",
    "    ).sum(axis=1)\n",
    "    if not np.allclose(sum_TC_outflows, 1):\n",
    "        MASK = ~np.isclose(sum_TC_outflows, 1)\n",
    "        raise ValueError(\n",
    "            f\"sum(TCs) != 1 for the outflows of the following process:\\n{sum_TC_outflows.loc[MASK].index}\"\n",
    "        )"
   ]
  },
  {
   "attachments": {},
   "cell_type": "markdown",
   "metadata": {},
   "source": [
    "## Generate synthetic data\n"
   ]
  },
  {
   "cell_type": "code",
   "execution_count": null,
   "metadata": {},
   "outputs": [],
   "source": [
    "processes = [\n",
    "    \"collection\",\n",
    "    \"Sorting\",\n",
    "    \"Shredding\",\n",
    "    \"Melting\",\n",
    "    \"Fabrication\",\n",
    "    \"Recycling\",\n",
    "    \"Reuse\",\n",
    "    \"Pyrolysis\",\n",
    "    \"Gasification\",\n",
    "    \"Inciniration\",\n",
    "    \"Leaching\",\n",
    "    \"Landfilling\",\n",
    "]\n",
    "\n",
    "countries = [\"NL\", \"DE\", \"FR\", \"IT\", \"ES\", \"UK\"]\n",
    "elements = [\"Nickel\", \"Aluminium\", \"Cobalt\", \"Zinc\", \"Copper\", \"Iron\"]\n",
    "years = [2023, 2022, 2021, 2020]"
   ]
  },
  {
   "cell_type": "code",
   "execution_count": null,
   "metadata": {},
   "outputs": [],
   "source": [
    "tcs = generate_tcs(countries, elements, years, processes)\n",
    "inflow = generate_inflows(countries, elements, years, processes)\n",
    "check_TC_outflows(pd.DataFrame(tcs), \"processFrom\", \"processTo\", \"tc\")"
   ]
  },
  {
   "attachments": {},
   "cell_type": "markdown",
   "metadata": {},
   "source": [
    "## Save data\n"
   ]
  },
  {
   "cell_type": "code",
   "execution_count": null,
   "metadata": {},
   "outputs": [],
   "source": [
    "writer = pd.ExcelWriter(\"../data/dummy_long.xlsx\")\n",
    "inflow.to_excel(writer, sheet_name=\"inputs\", index=False)\n",
    "tcs.to_excel(writer, sheet_name=\"trans_coeff\", index=False)\n",
    "writer.close()"
   ]
  }
 ],
 "metadata": {
  "kernelspec": {
   "display_name": "futuram",
   "language": "python",
   "name": "python3"
  },
  "language_info": {
   "codemirror_mode": {
    "name": "ipython",
    "version": 3
   },
   "file_extension": ".py",
   "mimetype": "text/x-python",
   "name": "python",
   "nbconvert_exporter": "python",
   "pygments_lexer": "ipython3",
   "version": "3.11.3"
  },
  "orig_nbformat": 4
 },
 "nbformat": 4,
 "nbformat_minor": 2
}
